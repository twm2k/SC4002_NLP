{
 "cells": [
  {
   "cell_type": "markdown",
   "id": "d6ebbf29",
   "metadata": {},
   "source": [
    "\n",
    "# NLP Assignment - Question Classification\n",
    "This notebook outlines the process for data preprocessing, training, and model creation for Question Classification tasks using pretrained Word2Vec embeddings.\n"
   ]
  },
  {
   "cell_type": "code",
   "execution_count": 1,
   "id": "be75c01b",
   "metadata": {},
   "outputs": [],
   "source": [
    "\n",
    "import pandas as pd\n",
    "import numpy as np\n",
    "from sklearn.model_selection import train_test_split\n",
    "from keras.preprocessing.text import Tokenizer\n",
    "from keras.preprocessing.sequence import pad_sequences\n",
    "from keras.utils import to_categorical\n",
    "from keras.models import Sequential\n",
    "from keras.layers import LSTM, Embedding, Dense, TimeDistributed, Dropout, Bidirectional\n",
    "from gensim.models import Word2Vec\n",
    "import random"
   ]
  },
  {
   "cell_type": "markdown",
   "id": "49ad74fe",
   "metadata": {},
   "source": [
    "\n",
    "## Data Preprocessing\n",
    "Load and preprocess the data for question classification.\n"
   ]
  },
  {
   "cell_type": "code",
   "execution_count": 2,
   "id": "b62db3f3",
   "metadata": {},
   "outputs": [],
   "source": [
    "\n",
    "# Question Classification Data\n",
    "train_data = pd.read_csv('../Data/TREC/Raw/train.csv')  # Replace with your path\n",
    "test_data = pd.read_csv('../Data/TREC/Raw/test.csv')  # Replace with your path\n",
    "# Preprocess Data (Tokenization, padding, label encoding)\n",
    "# Add your preprocessing steps here\n",
    "train_data['text'] = train_data['text'].str.lower()\n",
    "test_data['text'] = test_data['text'].str.lower()\n",
    "\n",
    "train_data = train_data.drop(columns=['label-fine'])\n",
    "test_data = test_data.drop(columns=['label-fine'])"
   ]
  },
  {
   "cell_type": "code",
   "execution_count": 3,
   "metadata": {},
   "outputs": [],
   "source": [
    "coarse_label = train_data['label-coarse'].unique() # returns an array([])\n",
    "coarse_label = list(coarse_label) \n",
    "selection = random.sample(coarse_label, 2)"
   ]
  },
  {
   "cell_type": "code",
   "execution_count": 4,
   "metadata": {},
   "outputs": [
    {
     "name": "stderr",
     "output_type": "stream",
     "text": [
      "C:\\Users\\ninja\\AppData\\Local\\Temp\\ipykernel_27484\\2043832378.py:4: FutureWarning: Setting an item of incompatible dtype is deprecated and will raise in a future error of pandas. Value 'OTHERS' has dtype incompatible with int64, please explicitly cast to a compatible dtype first.\n",
      "  train_data.loc[index, 'label-coarse'] = 'OTHERS'\n"
     ]
    }
   ],
   "source": [
    "for index, row in train_data.iterrows():\n",
    "    label_coarse = train_data.loc[index, 'label-coarse']\n",
    "    if label_coarse in selection:\n",
    "        train_data.loc[index, 'label-coarse'] = 'OTHERS'\n",
    "\n",
    "\n",
    "for index, row in train_data.iterrows():\n",
    "    label_coarse = train_data.loc[index, 'label-coarse']\n",
    "    if label_coarse in selection:\n",
    "        train_data.loc[index, 'label-coarse'] = 'OTHERS'"
   ]
  },
  {
   "cell_type": "code",
   "execution_count": 5,
   "metadata": {},
   "outputs": [
    {
     "data": {
      "text/html": [
       "<div>\n",
       "<style scoped>\n",
       "    .dataframe tbody tr th:only-of-type {\n",
       "        vertical-align: middle;\n",
       "    }\n",
       "\n",
       "    .dataframe tbody tr th {\n",
       "        vertical-align: top;\n",
       "    }\n",
       "\n",
       "    .dataframe thead th {\n",
       "        text-align: right;\n",
       "    }\n",
       "</style>\n",
       "<table border=\"1\" class=\"dataframe\">\n",
       "  <thead>\n",
       "    <tr style=\"text-align: right;\">\n",
       "      <th></th>\n",
       "      <th>label-coarse</th>\n",
       "      <th>text</th>\n",
       "    </tr>\n",
       "  </thead>\n",
       "  <tbody>\n",
       "    <tr>\n",
       "      <th>0</th>\n",
       "      <td>0</td>\n",
       "      <td>how did serfdom develop in and then leave russ...</td>\n",
       "    </tr>\n",
       "    <tr>\n",
       "      <th>1</th>\n",
       "      <td>1</td>\n",
       "      <td>what films featured the character popeye doyle ?</td>\n",
       "    </tr>\n",
       "    <tr>\n",
       "      <th>2</th>\n",
       "      <td>0</td>\n",
       "      <td>how can i find a list of celebrities ' real na...</td>\n",
       "    </tr>\n",
       "    <tr>\n",
       "      <th>3</th>\n",
       "      <td>1</td>\n",
       "      <td>what fowl grabs the spotlight after the chines...</td>\n",
       "    </tr>\n",
       "    <tr>\n",
       "      <th>4</th>\n",
       "      <td>OTHERS</td>\n",
       "      <td>what is the full form of .com ?</td>\n",
       "    </tr>\n",
       "    <tr>\n",
       "      <th>...</th>\n",
       "      <td>...</td>\n",
       "      <td>...</td>\n",
       "    </tr>\n",
       "    <tr>\n",
       "      <th>5447</th>\n",
       "      <td>1</td>\n",
       "      <td>what 's the shape of a camel 's spine ?</td>\n",
       "    </tr>\n",
       "    <tr>\n",
       "      <th>5448</th>\n",
       "      <td>1</td>\n",
       "      <td>what type of currency is used in china ?</td>\n",
       "    </tr>\n",
       "    <tr>\n",
       "      <th>5449</th>\n",
       "      <td>4</td>\n",
       "      <td>what is the temperature today ?</td>\n",
       "    </tr>\n",
       "    <tr>\n",
       "      <th>5450</th>\n",
       "      <td>4</td>\n",
       "      <td>what is the temperature for cooking ?</td>\n",
       "    </tr>\n",
       "    <tr>\n",
       "      <th>5451</th>\n",
       "      <td>1</td>\n",
       "      <td>what currency is used in australia ?</td>\n",
       "    </tr>\n",
       "  </tbody>\n",
       "</table>\n",
       "<p>5452 rows × 2 columns</p>\n",
       "</div>"
      ],
      "text/plain": [
       "     label-coarse                                               text\n",
       "0               0  how did serfdom develop in and then leave russ...\n",
       "1               1   what films featured the character popeye doyle ?\n",
       "2               0  how can i find a list of celebrities ' real na...\n",
       "3               1  what fowl grabs the spotlight after the chines...\n",
       "4          OTHERS                    what is the full form of .com ?\n",
       "...           ...                                                ...\n",
       "5447            1            what 's the shape of a camel 's spine ?\n",
       "5448            1           what type of currency is used in china ?\n",
       "5449            4                    what is the temperature today ?\n",
       "5450            4              what is the temperature for cooking ?\n",
       "5451            1               what currency is used in australia ?\n",
       "\n",
       "[5452 rows x 2 columns]"
      ]
     },
     "execution_count": 5,
     "metadata": {},
     "output_type": "execute_result"
    }
   ],
   "source": [
    "train_data"
   ]
  },
  {
   "cell_type": "code",
   "execution_count": 6,
   "metadata": {},
   "outputs": [
    {
     "name": "stdout",
     "output_type": "stream",
     "text": [
      "Training set (dev):\n",
      "     label-coarse                                               text\n",
      "2749            0            what do the 12 days of christmas mean ?\n",
      "2331       OTHERS           what state is niagara falls located in ?\n",
      "759        OTHERS  where does buzz aldrin want to build a permane...\n",
      "5057            4  what are the unemployment statistics for the y...\n",
      "3752       OTHERS                     where was chop suey invented ?\n",
      "...           ...                                                ...\n",
      "2405       OTHERS    what state was named the green mountain state ?\n",
      "1003            1  what car was driven in the 199 release of `` s...\n",
      "4133            3         who makes the `` die hard '' car battery ?\n",
      "2646            3  what are the first names of the famous husband...\n",
      "4445            4             how many beanie baby sites are there ?\n",
      "\n",
      "[500 rows x 2 columns]\n",
      "Training set:\n",
      "     label-coarse                                               text\n",
      "2816            4  how many cards are dealt to each player in gin...\n",
      "3129       OTHERS  what two japanese cities are spelled with the ...\n",
      "1552       OTHERS  what african country is governed from ouagadou...\n",
      "1925            0  what caused an adjournment of the 25th anniver...\n",
      "2008       OTHERS                    which country did hitler rule ?\n",
      "...           ...                                                ...\n",
      "3712            1                       what is a fear of sourness ?\n",
      "999             3  who portrayed `` rosanne rosanna-dana '' on th...\n",
      "2601            1  what 's the largest u.s. agricultural crop by ...\n",
      "681             3  what are the top ten most common girl names in...\n",
      "272             1   what color bottles do good rhine wines come in ?\n",
      "\n",
      "[4952 rows x 2 columns]\n",
      "\n",
      "Test set:\n",
      "     label-coarse                                      text\n",
      "0               4      how far is it from denver to aspen ?\n",
      "1               5  what county is modesto , california in ?\n",
      "2               3                         who was galileo ?\n",
      "3               0                         what is an atom ?\n",
      "4               4          when did hawaii become a state ?\n",
      "..            ...                                       ...\n",
      "495             3    who was the 22nd president of the us ?\n",
      "496             1    what is the money they use in zambia ?\n",
      "497             4                 how many feet in a mile ?\n",
      "498             1       what is the birthstone of october ?\n",
      "499             0                          what is e-coli ?\n",
      "\n",
      "[500 rows x 2 columns]\n"
     ]
    }
   ],
   "source": [
    "train_df, dev_df = train_test_split(train_data, test_size = 500, shuffle = True)\n",
    "\n",
    "print(\"Training set (dev):\")\n",
    "print(dev_df)\n",
    "\n",
    "print(\"Training set:\")\n",
    "print(train_df)\n",
    "\n",
    "print(\"\\nTest set:\")\n",
    "print(test_data)"
   ]
  },
  {
   "cell_type": "markdown",
   "id": "0f62e068",
   "metadata": {},
   "source": [
    "\n",
    "## Loading Pretrained Word2Vec Embeddings\n",
    "Load the pretrained Word2Vec model.\n"
   ]
  },
  {
   "cell_type": "code",
   "execution_count": null,
   "id": "3e4a5c07",
   "metadata": {},
   "outputs": [],
   "source": [
    "\n",
    "# Load Pretrained Word2Vec Model\n",
    "w2v_model = Word2Vec.load('path/to/word2vec.model')  # Replace with your path\n"
   ]
  },
  {
   "cell_type": "markdown",
   "id": "1d642026",
   "metadata": {},
   "source": [
    "\n",
    "## Model Building\n",
    "Create LSTM models for NER and question classification.\n"
   ]
  },
  {
   "cell_type": "code",
   "execution_count": null,
   "id": "38fa26f9",
   "metadata": {},
   "outputs": [],
   "source": [
    "\n",
    "# Model for Named Entity Recognition\n",
    "# Define NER model architecture\n",
    "ner_model = Sequential()\n",
    "# Add your model layers (e.g., Embedding, LSTM, Dense)\n",
    "\n",
    "# Model for Question Classification\n",
    "# Define question classification model architecture\n",
    "question_model = Sequential()\n",
    "# Add your model layers (e.g., Embedding, LSTM, Dense)\n"
   ]
  },
  {
   "cell_type": "markdown",
   "id": "1086b120",
   "metadata": {},
   "source": [
    "\n",
    "## Training\n",
    "Training procedures for both NER and question classification models.\n"
   ]
  },
  {
   "cell_type": "code",
   "execution_count": null,
   "id": "f263f81f",
   "metadata": {},
   "outputs": [],
   "source": [
    "\n",
    "# Training NER Model\n",
    "# Add your training code here (e.g., ner_model.fit())\n",
    "\n",
    "# Training Question Classification Model\n",
    "# Add your training code here (e.g., question_model.fit())\n"
   ]
  },
  {
   "cell_type": "markdown",
   "id": "e965e4cb",
   "metadata": {},
   "source": [
    "\n",
    "## Evaluation\n",
    "Metrics and evaluation methods for the models.\n"
   ]
  },
  {
   "cell_type": "code",
   "execution_count": null,
   "id": "ade3defc",
   "metadata": {},
   "outputs": [],
   "source": [
    "\n",
    "# Evaluate NER Model\n",
    "# Add your evaluation code here\n",
    "\n",
    "# Evaluate Question Classification Model\n",
    "# Add your evaluation code here\n"
   ]
  }
 ],
 "metadata": {
  "kernelspec": {
   "display_name": "Python 3",
   "language": "python",
   "name": "python3"
  },
  "language_info": {
   "codemirror_mode": {
    "name": "ipython",
    "version": 3
   },
   "file_extension": ".py",
   "mimetype": "text/x-python",
   "name": "python",
   "nbconvert_exporter": "python",
   "pygments_lexer": "ipython3",
   "version": "3.11.4"
  }
 },
 "nbformat": 4,
 "nbformat_minor": 5
}
