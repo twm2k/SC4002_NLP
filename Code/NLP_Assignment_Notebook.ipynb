{
 "cells": [
  {
   "cell_type": "markdown",
   "id": "d6ebbf29",
   "metadata": {},
   "source": [
    "\n",
    "# NLP Assignment - Question Classification\n",
    "This notebook outlines the process for data preprocessing, training, and model creation for Question Classification tasks using pretrained Word2Vec embeddings.\n"
   ]
  },
  {
   "cell_type": "code",
   "execution_count": 1,
   "id": "be75c01b",
   "metadata": {},
   "outputs": [],
   "source": [
    "\n",
    "import pandas as pd\n",
    "import numpy as np\n",
    "from sklearn.model_selection import train_test_split\n",
    "from keras.preprocessing.text import Tokenizer\n",
    "from keras.preprocessing.sequence import pad_sequences\n",
    "from keras.utils import to_categorical\n",
    "from keras.models import Sequential\n",
    "from keras.layers import LSTM, Embedding, Dense, TimeDistributed, Dropout, Bidirectional\n",
    "from keras.callbacks import EarlyStopping\n",
    "import gensim.downloader as api\n",
    "import random"
   ]
  },
  {
   "cell_type": "markdown",
   "id": "49ad74fe",
   "metadata": {},
   "source": [
    "\n",
    "## Data Preprocessing\n",
    "Load and preprocess the data for question classification.\n"
   ]
  },
  {
   "cell_type": "code",
   "execution_count": 2,
   "id": "b62db3f3",
   "metadata": {},
   "outputs": [],
   "source": [
    "\n",
    "# Question Classification Data\n",
    "train_data = pd.read_csv('../Data/TREC/Raw/train.csv')  # Replace with your path\n",
    "test_data = pd.read_csv('../Data/TREC/Raw/test.csv')  # Replace with your path\n",
    "# Preprocess Data (Tokenization, padding, label encoding)\n",
    "# Add your preprocessing steps here\n",
    "train_data['text'] = train_data['text'].str.lower()\n",
    "test_data['text'] = test_data['text'].str.lower()\n",
    "\n",
    "train_data = train_data.drop(columns=['label-fine'])\n",
    "test_data = test_data.drop(columns=['label-fine'])"
   ]
  },
  {
   "cell_type": "code",
   "execution_count": 3,
   "metadata": {},
   "outputs": [],
   "source": [
    "coarse_label = train_data['label-coarse'].unique() # returns an array([])\n",
    "coarse_label = list(coarse_label) \n",
    "selection = random.sample(coarse_label, 2)"
   ]
  },
  {
   "cell_type": "code",
   "execution_count": 4,
   "metadata": {},
   "outputs": [
    {
     "name": "stderr",
     "output_type": "stream",
     "text": [
      "C:\\Users\\ninja\\AppData\\Local\\Temp\\ipykernel_26188\\603029549.py:4: FutureWarning: Setting an item of incompatible dtype is deprecated and will raise in a future error of pandas. Value 'OTHERS' has dtype incompatible with int64, please explicitly cast to a compatible dtype first.\n",
      "  train_data.loc[index, 'label-coarse'] = 'OTHERS'\n",
      "C:\\Users\\ninja\\AppData\\Local\\Temp\\ipykernel_26188\\603029549.py:10: FutureWarning: Setting an item of incompatible dtype is deprecated and will raise in a future error of pandas. Value 'OTHERS' has dtype incompatible with int64, please explicitly cast to a compatible dtype first.\n",
      "  test_data.loc[index, 'label-coarse'] = 'OTHERS'\n"
     ]
    }
   ],
   "source": [
    "for index, row in train_data.iterrows():\n",
    "    label_coarse = train_data.loc[index, 'label-coarse']\n",
    "    if label_coarse in selection:\n",
    "        train_data.loc[index, 'label-coarse'] = 'OTHERS'\n",
    "\n",
    "\n",
    "for index, row in test_data.iterrows():\n",
    "    label_coarse = test_data.loc[index, 'label-coarse']\n",
    "    if label_coarse in selection:\n",
    "        test_data.loc[index, 'label-coarse'] = 'OTHERS'"
   ]
  },
  {
   "cell_type": "code",
   "execution_count": 5,
   "metadata": {},
   "outputs": [
    {
     "data": {
      "text/html": [
       "<div>\n",
       "<style scoped>\n",
       "    .dataframe tbody tr th:only-of-type {\n",
       "        vertical-align: middle;\n",
       "    }\n",
       "\n",
       "    .dataframe tbody tr th {\n",
       "        vertical-align: top;\n",
       "    }\n",
       "\n",
       "    .dataframe thead th {\n",
       "        text-align: right;\n",
       "    }\n",
       "</style>\n",
       "<table border=\"1\" class=\"dataframe\">\n",
       "  <thead>\n",
       "    <tr style=\"text-align: right;\">\n",
       "      <th></th>\n",
       "      <th>label-coarse</th>\n",
       "      <th>text</th>\n",
       "    </tr>\n",
       "  </thead>\n",
       "  <tbody>\n",
       "    <tr>\n",
       "      <th>0</th>\n",
       "      <td>0</td>\n",
       "      <td>how did serfdom develop in and then leave russ...</td>\n",
       "    </tr>\n",
       "    <tr>\n",
       "      <th>1</th>\n",
       "      <td>OTHERS</td>\n",
       "      <td>what films featured the character popeye doyle ?</td>\n",
       "    </tr>\n",
       "    <tr>\n",
       "      <th>2</th>\n",
       "      <td>0</td>\n",
       "      <td>how can i find a list of celebrities ' real na...</td>\n",
       "    </tr>\n",
       "    <tr>\n",
       "      <th>3</th>\n",
       "      <td>OTHERS</td>\n",
       "      <td>what fowl grabs the spotlight after the chines...</td>\n",
       "    </tr>\n",
       "    <tr>\n",
       "      <th>4</th>\n",
       "      <td>2</td>\n",
       "      <td>what is the full form of .com ?</td>\n",
       "    </tr>\n",
       "    <tr>\n",
       "      <th>...</th>\n",
       "      <td>...</td>\n",
       "      <td>...</td>\n",
       "    </tr>\n",
       "    <tr>\n",
       "      <th>5447</th>\n",
       "      <td>OTHERS</td>\n",
       "      <td>what 's the shape of a camel 's spine ?</td>\n",
       "    </tr>\n",
       "    <tr>\n",
       "      <th>5448</th>\n",
       "      <td>OTHERS</td>\n",
       "      <td>what type of currency is used in china ?</td>\n",
       "    </tr>\n",
       "    <tr>\n",
       "      <th>5449</th>\n",
       "      <td>4</td>\n",
       "      <td>what is the temperature today ?</td>\n",
       "    </tr>\n",
       "    <tr>\n",
       "      <th>5450</th>\n",
       "      <td>4</td>\n",
       "      <td>what is the temperature for cooking ?</td>\n",
       "    </tr>\n",
       "    <tr>\n",
       "      <th>5451</th>\n",
       "      <td>OTHERS</td>\n",
       "      <td>what currency is used in australia ?</td>\n",
       "    </tr>\n",
       "  </tbody>\n",
       "</table>\n",
       "<p>5452 rows × 2 columns</p>\n",
       "</div>"
      ],
      "text/plain": [
       "     label-coarse                                               text\n",
       "0               0  how did serfdom develop in and then leave russ...\n",
       "1          OTHERS   what films featured the character popeye doyle ?\n",
       "2               0  how can i find a list of celebrities ' real na...\n",
       "3          OTHERS  what fowl grabs the spotlight after the chines...\n",
       "4               2                    what is the full form of .com ?\n",
       "...           ...                                                ...\n",
       "5447       OTHERS            what 's the shape of a camel 's spine ?\n",
       "5448       OTHERS           what type of currency is used in china ?\n",
       "5449            4                    what is the temperature today ?\n",
       "5450            4              what is the temperature for cooking ?\n",
       "5451       OTHERS               what currency is used in australia ?\n",
       "\n",
       "[5452 rows x 2 columns]"
      ]
     },
     "execution_count": 5,
     "metadata": {},
     "output_type": "execute_result"
    }
   ],
   "source": [
    "train_data"
   ]
  },
  {
   "cell_type": "code",
   "execution_count": 6,
   "metadata": {},
   "outputs": [],
   "source": [
    "train_df, dev_df = train_test_split(train_data, test_size = 500, shuffle = True)\n",
    "\n",
    "path = '../Data/TREC/Processed/'\n",
    "\n",
    "# Export DataFrame to a CSV file\n",
    "train_df.to_csv(f'{path}train.csv', index=False)\n",
    "dev_df.to_csv(f'{path}dev.csv', index=False)\n",
    "test_data.to_csv(f'{path}test.csv', index=False)"
   ]
  },
  {
   "cell_type": "markdown",
   "id": "0f62e068",
   "metadata": {},
   "source": [
    "\n",
    "## Loading Pretrained Word2Vec Embeddings\n",
    "Load the pretrained Word2Vec model.\n"
   ]
  },
  {
   "cell_type": "code",
   "execution_count": 7,
   "metadata": {},
   "outputs": [
    {
     "name": "stdout",
     "output_type": "stream",
     "text": [
      "{'4', 'OTHERS', '0', '3', '2'}\n"
     ]
    }
   ],
   "source": [
    "path = '../Data/TREC/Processed'\n",
    "\n",
    "training_dev_df = pd.read_csv(f'{path}/dev.csv')\n",
    "training_df = pd.read_csv(f'{path}/train.csv')\n",
    "test_df = pd.read_csv(f'{path}/test.csv')\n",
    "print(set(training_df['label-coarse']))"
   ]
  },
  {
   "cell_type": "code",
   "execution_count": 8,
   "metadata": {},
   "outputs": [],
   "source": [
    "from keras.utils import to_categorical\n",
    "from sklearn.preprocessing import LabelEncoder\n",
    "\n",
    "label_encoder = LabelEncoder()\n",
    "\n",
    "training_df['label-coarse'] = label_encoder.fit_transform(training_df['label-coarse'])\n",
    "training_dev_df['label-coarse'] = label_encoder.fit_transform(training_dev_df['label-coarse'])\n",
    "test_df['label-coarse'] = label_encoder.fit_transform(test_df['label-coarse'])\n"
   ]
  },
  {
   "cell_type": "code",
   "execution_count": 9,
   "metadata": {},
   "outputs": [],
   "source": [
    "y_train = to_categorical(training_df['label-coarse'])\n",
    "y_val = to_categorical(training_dev_df['label-coarse'])\n",
    "y_test = to_categorical(test_df['label-coarse'])"
   ]
  },
  {
   "cell_type": "code",
   "execution_count": 10,
   "metadata": {},
   "outputs": [],
   "source": [
    "tokenizer = Tokenizer()\n",
    "tokenizer.fit_on_texts(training_df['text'])\n",
    "\n",
    "X_train_seq = tokenizer.texts_to_sequences(training_df['text'])\n",
    "X_val_seq = tokenizer.texts_to_sequences(training_dev_df['text'])\n",
    "X_test_seq = tokenizer.texts_to_sequences(test_df['text'])\n",
    "\n",
    "MAX_LEN = 50\n",
    "\n",
    "X_train = pad_sequences(X_train_seq,MAX_LEN)\n",
    "X_val = pad_sequences(X_val_seq,MAX_LEN)\n",
    "X_test = pad_sequences(X_test_seq,MAX_LEN)"
   ]
  },
  {
   "cell_type": "code",
   "execution_count": 11,
   "id": "3e4a5c07",
   "metadata": {},
   "outputs": [],
   "source": [
    "\n",
    "# Load Pretrained Word2Vec Model\n",
    "w2v_model = api.load('word2vec-google-news-300')\n"
   ]
  },
  {
   "cell_type": "code",
   "execution_count": 12,
   "metadata": {},
   "outputs": [],
   "source": [
    "_, embedding_dim = w2v_model.vectors.shape"
   ]
  },
  {
   "cell_type": "code",
   "execution_count": 13,
   "metadata": {},
   "outputs": [],
   "source": [
    "vocab_size = len(tokenizer.word_index) + 1\n",
    "\n",
    "embedding_matrix = np.zeros((vocab_size, embedding_dim))\n",
    "\n",
    "for word, i in tokenizer.word_index.items():\n",
    "    if word in w2v_model:\n",
    "        embedding_vec = w2v_model[word]\n",
    "        if embedding_vec is not None:\n",
    "            embedding_matrix[i] = embedding_vec\n"
   ]
  },
  {
   "cell_type": "markdown",
   "id": "1d642026",
   "metadata": {},
   "source": [
    "\n",
    "## Model Building\n",
    "Create LSTM models for NER and question classification.\n"
   ]
  },
  {
   "cell_type": "code",
   "execution_count": 17,
   "id": "38fa26f9",
   "metadata": {},
   "outputs": [],
   "source": [
    "# Model for Question Classification\n",
    "# Define question classification model architecture\n",
    "\n",
    "model = Sequential()\n",
    "\n",
    "# Add Embedding layer\n",
    "model.add(Embedding(input_dim=len(tokenizer.word_index) + 1,\n",
    "                    output_dim=embedding_matrix.shape[1],\n",
    "                    weights=[embedding_matrix],\n",
    "                    input_length=MAX_LEN,  # Length of input sequences\n",
    "                    trainable=False))  # Set to True if you want to fine-tune embeddings\n",
    "\n",
    "# Add LSTM layer\n",
    "model.add(LSTM(units=128, return_sequences=False))\n",
    "model.add(Dropout(0.2))\n",
    "# Add Dense layer(s)\n",
    "model.add(Dense(units=64, activation='relu'))\n",
    "model.add(Dense(units=5, activation='softmax'))  # num_classes: number of output classes\n",
    "# Compile the model\n",
    "model.compile(optimizer='adam', loss='categorical_crossentropy', metrics=['accuracy'])\n",
    "early_stopper = EarlyStopping(monitor='val_loss', patience=5, restore_best_weights=True)"
   ]
  },
  {
   "cell_type": "markdown",
   "id": "1086b120",
   "metadata": {},
   "source": [
    "\n",
    "## Training\n",
    "Training procedures for both NER and question classification models.\n"
   ]
  },
  {
   "cell_type": "code",
   "execution_count": 18,
   "id": "f263f81f",
   "metadata": {},
   "outputs": [
    {
     "name": "stdout",
     "output_type": "stream",
     "text": [
      "Epoch 1/200\n",
      "78/78 [==============================] - 4s 42ms/step - loss: 1.1384 - accuracy: 0.5359 - val_loss: 0.7739 - val_accuracy: 0.7260\n",
      "Epoch 2/200\n",
      "78/78 [==============================] - 3s 37ms/step - loss: 0.5980 - accuracy: 0.7910 - val_loss: 0.5545 - val_accuracy: 0.8020\n",
      "Epoch 3/200\n",
      "78/78 [==============================] - 3s 39ms/step - loss: 0.4684 - accuracy: 0.8399 - val_loss: 0.5606 - val_accuracy: 0.7940\n",
      "Epoch 4/200\n",
      "78/78 [==============================] - 3s 39ms/step - loss: 0.3750 - accuracy: 0.8736 - val_loss: 0.4054 - val_accuracy: 0.8660\n",
      "Epoch 5/200\n",
      "78/78 [==============================] - 3s 42ms/step - loss: 0.3250 - accuracy: 0.8893 - val_loss: 0.3843 - val_accuracy: 0.8740\n",
      "Epoch 6/200\n",
      "78/78 [==============================] - 3s 42ms/step - loss: 0.2755 - accuracy: 0.9047 - val_loss: 0.3850 - val_accuracy: 0.8680\n",
      "Epoch 7/200\n",
      "78/78 [==============================] - 3s 40ms/step - loss: 0.2381 - accuracy: 0.9170 - val_loss: 0.3732 - val_accuracy: 0.8820\n",
      "Epoch 8/200\n",
      "78/78 [==============================] - 3s 39ms/step - loss: 0.2045 - accuracy: 0.9273 - val_loss: 0.4353 - val_accuracy: 0.8740\n",
      "Epoch 9/200\n",
      "78/78 [==============================] - 3s 40ms/step - loss: 0.1843 - accuracy: 0.9360 - val_loss: 0.3692 - val_accuracy: 0.8840\n",
      "Epoch 10/200\n",
      "78/78 [==============================] - 3s 40ms/step - loss: 0.1481 - accuracy: 0.9515 - val_loss: 0.4517 - val_accuracy: 0.8560\n",
      "Epoch 11/200\n",
      "78/78 [==============================] - 3s 39ms/step - loss: 0.1403 - accuracy: 0.9540 - val_loss: 0.3924 - val_accuracy: 0.8820\n",
      "Epoch 12/200\n",
      "78/78 [==============================] - 3s 40ms/step - loss: 0.1196 - accuracy: 0.9578 - val_loss: 0.5316 - val_accuracy: 0.8720\n",
      "Epoch 13/200\n",
      "78/78 [==============================] - 3s 39ms/step - loss: 0.1110 - accuracy: 0.9630 - val_loss: 0.4392 - val_accuracy: 0.8620\n",
      "Epoch 14/200\n",
      "78/78 [==============================] - 3s 38ms/step - loss: 0.0952 - accuracy: 0.9695 - val_loss: 0.5262 - val_accuracy: 0.8740\n"
     ]
    },
    {
     "data": {
      "text/plain": [
       "<keras.src.callbacks.History at 0x22aa16fc510>"
      ]
     },
     "execution_count": 18,
     "metadata": {},
     "output_type": "execute_result"
    }
   ],
   "source": [
    "# Training Question Classification Model\n",
    "NUM_EPOCH = 200\n",
    "BATCH_SIZE = 64\n",
    "\n",
    "model.fit(X_train, y_train, batch_size=BATCH_SIZE, epochs=NUM_EPOCH, validation_data=(X_val, y_val), callbacks= early_stopper, workers= 4)\n"
   ]
  },
  {
   "cell_type": "markdown",
   "id": "e965e4cb",
   "metadata": {},
   "source": [
    "\n",
    "## Evaluation\n",
    "Metrics and evaluation methods for the models.\n"
   ]
  },
  {
   "cell_type": "code",
   "execution_count": 19,
   "id": "ade3defc",
   "metadata": {},
   "outputs": [
    {
     "name": "stdout",
     "output_type": "stream",
     "text": [
      "16/16 [==============================] - 0s 9ms/step - loss: 0.3650 - accuracy: 0.8840\n",
      "Test Loss: 0.3650188148021698, Test Accuracy: 0.8840000033378601\n"
     ]
    }
   ],
   "source": [
    "\n",
    "# Evaluate NER Model\n",
    "# Add your evaluation code here\n",
    "loss, accuracy = model.evaluate(X_test, y_test)\n",
    "print(f'Test Loss: {loss}, Test Accuracy: {accuracy}')\n",
    "# Evaluate Question Classification Model\n",
    "# Add your evaluation code here\n"
   ]
  }
 ],
 "metadata": {
  "kernelspec": {
   "display_name": "Python 3",
   "language": "python",
   "name": "python3"
  },
  "language_info": {
   "codemirror_mode": {
    "name": "ipython",
    "version": 3
   },
   "file_extension": ".py",
   "mimetype": "text/x-python",
   "name": "python",
   "nbconvert_exporter": "python",
   "pygments_lexer": "ipython3",
   "version": "3.11.4"
  }
 },
 "nbformat": 4,
 "nbformat_minor": 5
}
